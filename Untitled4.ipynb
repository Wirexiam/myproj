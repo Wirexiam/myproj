{
 "cells": [
  {
   "cell_type": "code",
   "execution_count": 1,
   "id": "f5693bd2",
   "metadata": {},
   "outputs": [
    {
     "name": "stdout",
     "output_type": "stream",
     "text": [
      "3\n",
      "  0\n",
      " 0  0\n",
      "0 x 0\n",
      " 0  0\n",
      "  0\n"
     ]
    }
   ],
   "source": [
    "def print_triangle(N):\n",
    "    for i in range(1, N):\n",
    "        print(\" \" * (N - i) + \"0\" + \" \" * (2 * i - 2) + (\"0\" if i > 1 else \"\"))\n",
    " \n",
    "    print(\"0\" + \" x\" * (N - 2) + \" 0\" if N > 1 else \"0\")\n",
    " \n",
    "    for i in range(N - 1, 0, -1):\n",
    "        print(\" \" * (N - i) + \"0\" + \" \" * (2 * i - 2) + (\"0\" if i > 1 else \"\"))\n",
    " \n",
    "N = int(input())\n",
    " \n",
    "print_triangle(N)"
   ]
  },
  {
   "cell_type": "code",
   "execution_count": null,
   "id": "d958c090",
   "metadata": {},
   "outputs": [],
   "source": []
  }
 ],
 "metadata": {
  "kernelspec": {
   "display_name": "Python 3 (ipykernel)",
   "language": "python",
   "name": "python3"
  },
  "language_info": {
   "codemirror_mode": {
    "name": "ipython",
    "version": 3
   },
   "file_extension": ".py",
   "mimetype": "text/x-python",
   "name": "python",
   "nbconvert_exporter": "python",
   "pygments_lexer": "ipython3",
   "version": "3.9.13"
  }
 },
 "nbformat": 4,
 "nbformat_minor": 5
}
